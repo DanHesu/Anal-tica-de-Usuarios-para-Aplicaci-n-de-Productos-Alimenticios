{
 "cells": [
  {
   "cell_type": "markdown",
   "metadata": {},
   "source": [
    "# Introducción al Proyecto: Análisis del Comportamiento del Usuario en una Aplicación de Productos Alimenticios\n",
    "\n",
    "En este proyecto, trabajamos para una empresa emergente que se dedica a la venta de productos alimenticios. El objetivo principal es comprender el comportamiento de los usuarios en la aplicación de la empresa. A través de un análisis detallado, exploraremos el embudo de ventas y realizaremos un test A/A/B para evaluar el impacto de un cambio en el diseño de la aplicación."
   ]
  },
  {
   "cell_type": "markdown",
   "metadata": {},
   "source": [
    "## Preparación de datos "
   ]
  },
  {
   "cell_type": "code",
   "execution_count": 1,
   "metadata": {},
   "outputs": [],
   "source": [
    "import pandas as pd\n",
    "import matplotlib.pyplot as plt\n",
    "import scipy.stats as stats\n",
    "import statsmodels.api as sm\n",
    "import numpy as np\n",
    "from statsmodels.stats.proportion import proportions_ztest"
   ]
  },
  {
   "cell_type": "code",
   "execution_count": 2,
   "metadata": {},
   "outputs": [
    {
     "name": "stdout",
     "output_type": "stream",
     "text": [
      "             nombre_evento     id_usuario_unico  hora_evento  num_experimento\n",
      "0         MainScreenAppear  4575588528974610257   1564029816              246\n",
      "1         MainScreenAppear  7416695313311560658   1564053102              246\n",
      "2  PaymentScreenSuccessful  3518123091307005509   1564054127              248\n",
      "3         CartScreenAppear  3518123091307005509   1564054127              248\n",
      "4  PaymentScreenSuccessful  6217807653094995999   1564055322              248\n",
      "<class 'pandas.core.frame.DataFrame'>\n",
      "RangeIndex: 244126 entries, 0 to 244125\n",
      "Data columns (total 4 columns):\n",
      " #   Column            Non-Null Count   Dtype \n",
      "---  ------            --------------   ----- \n",
      " 0   nombre_evento     244126 non-null  object\n",
      " 1   id_usuario_unico  244126 non-null  int64 \n",
      " 2   hora_evento       244126 non-null  int64 \n",
      " 3   num_experimento   244126 non-null  int64 \n",
      "dtypes: int64(3), object(1)\n",
      "memory usage: 7.5+ MB\n"
     ]
    }
   ],
   "source": [
    "datos = pd.read_csv(\"/datasets/logs_exp_us.csv\", sep='\\t')\n",
    "\n",
    "datos.columns = ['nombre_evento', 'id_usuario_unico', 'hora_evento', 'num_experimento']\n",
    "\n",
    "print(datos.head())\n",
    "\n",
    "datos.info()"
   ]
  },
  {
   "cell_type": "markdown",
   "metadata": {},
   "source": [
    "Los nombres de las columnas se han cambiado correctamente de la siguiente forma: \n",
    "\n",
    "EventName: nombre del evento.\n",
    "\n",
    "DeviceIDHash: identificador de usuario unívoco.\n",
    "\n",
    "EventTimestamp: hora del evento.\n",
    "\n",
    "ExpId: número de experimento."
   ]
  },
  {
   "cell_type": "code",
   "execution_count": 3,
   "metadata": {},
   "outputs": [
    {
     "name": "stdout",
     "output_type": "stream",
     "text": [
      "Tipos de datos:\n",
      "nombre_evento       object\n",
      "id_usuario_unico     int64\n",
      "hora_evento          int64\n",
      "num_experimento      int64\n",
      "dtype: object\n",
      "\n",
      "Valores ausentes:\n",
      "nombre_evento       0\n",
      "id_usuario_unico    0\n",
      "hora_evento         0\n",
      "num_experimento     0\n",
      "dtype: int64\n"
     ]
    }
   ],
   "source": [
    "# Verificar tipos de datos\n",
    "print(\"Tipos de datos:\")\n",
    "print(datos.dtypes)\n",
    "\n",
    "# Verificar valores ausentes\n",
    "print(\"\\nValores ausentes:\")\n",
    "print(datos.isnull().sum())"
   ]
  },
  {
   "cell_type": "markdown",
   "metadata": {},
   "source": [
    "Parece que no hay valores ausentes en tus datos, y los tipos de datos son apropiados. No hay necesidad de correcciones en este paso."
   ]
  },
  {
   "cell_type": "code",
   "execution_count": 4,
   "metadata": {},
   "outputs": [
    {
     "name": "stdout",
     "output_type": "stream",
     "text": [
      "             nombre_evento     id_usuario_unico  hora_evento  num_experimento  \\\n",
      "0         MainScreenAppear  4575588528974610257   1564029816              246   \n",
      "1         MainScreenAppear  7416695313311560658   1564053102              246   \n",
      "2  PaymentScreenSuccessful  3518123091307005509   1564054127              248   \n",
      "3         CartScreenAppear  3518123091307005509   1564054127              248   \n",
      "4  PaymentScreenSuccessful  6217807653094995999   1564055322              248   \n",
      "\n",
      "           fecha_hora       fecha      hora  \n",
      "0 2019-07-25 04:43:36  2019-07-25  04:43:36  \n",
      "1 2019-07-25 11:11:42  2019-07-25  11:11:42  \n",
      "2 2019-07-25 11:28:47  2019-07-25  11:28:47  \n",
      "3 2019-07-25 11:28:47  2019-07-25  11:28:47  \n",
      "4 2019-07-25 11:48:42  2019-07-25  11:48:42  \n"
     ]
    }
   ],
   "source": [
    "# Convertir la columna 'hora del evento' a formato de fecha y hora\n",
    "datos['fecha_hora'] = pd.to_datetime(datos['hora_evento'], unit='s')\n",
    "\n",
    "# Agregar columnas separadas para la fecha\n",
    "datos['fecha'] = datos['fecha_hora'].dt.date\n",
    "datos['hora'] = datos['fecha_hora'].dt.time\n",
    "\n",
    "print(datos.head())"
   ]
  },
  {
   "cell_type": "markdown",
   "metadata": {},
   "source": [
    "Las nuevas columnas fecha_hora, fecha, y hora se han agregado correctamente al DataFrame. "
   ]
  },
  {
   "cell_type": "markdown",
   "metadata": {},
   "source": [
    "## Estudiar y comprobar los datos"
   ]
  },
  {
   "cell_type": "code",
   "execution_count": 5,
   "metadata": {},
   "outputs": [
    {
     "name": "stdout",
     "output_type": "stream",
     "text": [
      "El número de eventos en los registros es: 5\n",
      "El número de usuarios y usuarias en los registros es: 7551\n",
      "El promedio de eventos por usuario es: 32.33\n"
     ]
    }
   ],
   "source": [
    "# Contar el número de eventos\n",
    "num_eventos = datos['nombre_evento'].nunique()\n",
    "\n",
    "print(f\"El número de eventos en los registros es: {num_eventos}\")\n",
    "\n",
    "# Contar el número de usuarios y usuarias únicos\n",
    "num_usuarios = datos['id_usuario_unico'].nunique()\n",
    "\n",
    "print(f\"El número de usuarios y usuarias en los registros es: {num_usuarios}\")\n",
    "\n",
    "# Calcular el promedio de eventos por usuario\n",
    "promedio_eventos_por_usuario = datos.groupby('id_usuario_unico')['nombre_evento'].count().mean()\n",
    "\n",
    "print(f\"El promedio de eventos por usuario es: {promedio_eventos_por_usuario:.2f}\")"
   ]
  },
  {
   "cell_type": "code",
   "execution_count": 6,
   "metadata": {},
   "outputs": [
    {
     "name": "stdout",
     "output_type": "stream",
     "text": [
      "Fecha máxima: 2019-08-07 21:15:17\n",
      "Fecha mínima: 2019-07-25 04:43:36\n"
     ]
    },
    {
     "data": {
      "image/png": "[encoded data removed]",
      "text/plain": [
       "<Figure size 864x432 with 1 Axes>"
      ]
     },
     "metadata": {
      "needs_background": "light"
     },
     "output_type": "display_data"
    }
   ],
   "source": [
    "# Encontrar la fecha máxima y mínima\n",
    "fecha_maxima = datos['fecha_hora'].max()\n",
    "fecha_minima = datos['fecha_hora'].min()\n",
    "\n",
    "print(f\"Fecha máxima: {fecha_maxima}\")\n",
    "print(f\"Fecha mínima: {fecha_minima}\")\n",
    "\n",
    "\n",
    "plt.figure(figsize=(12, 6))\n",
    "plt.hist(datos['fecha_hora'], bins=50, color='skyblue', edgecolor='black')\n",
    "plt.xlabel('Fecha y Hora')\n",
    "plt.ylabel('Número de Eventos')\n",
    "plt.title('Histograma de Eventos por Fecha y Hora')\n",
    "plt.show()"
   ]
  },
  {
   "cell_type": "code",
   "execution_count": 7,
   "metadata": {},
   "outputs": [
    {
     "name": "stdout",
     "output_type": "stream",
     "text": [
      "Variación porcentual entre eventos por fecha:\n",
      "fecha\n",
      "2019-07-25          NaN\n",
      "2019-07-26     2.444444\n",
      "2019-07-27     0.774194\n",
      "2019-07-28     0.909091\n",
      "2019-07-29     0.752381\n",
      "2019-07-30     1.244565\n",
      "2019-07-31     3.917676\n",
      "2019-08-01    16.838011\n",
      "2019-08-02    -0.017196\n",
      "2019-08-03    -0.063332\n",
      "2019-08-04    -0.009535\n",
      "2019-08-05     0.093240\n",
      "2019-08-06    -0.008058\n",
      "2019-08-07    -0.130590\n",
      "Name: nombre_evento, dtype: float64\n",
      "Puede haber variaciones significativas en los datos a lo largo del periodo.\n"
     ]
    }
   ],
   "source": [
    "# Contar la cantidad de eventos por fecha\n",
    "eventos_por_fecha = datos.groupby('fecha')['nombre_evento'].count()\n",
    "\n",
    "# Calcular la variación porcentual entre eventos por fecha\n",
    "variacion_porcentual = eventos_por_fecha.pct_change()\n",
    "\n",
    "print(\"Variación porcentual entre eventos por fecha:\")\n",
    "print(variacion_porcentual)\n",
    "\n",
    "# Verificar si hay variaciones significativas\n",
    "if variacion_porcentual.abs().max() <= 0.1:\n",
    "    print(\"Los datos son relativamente estables a lo largo del periodo.\")\n",
    "else:\n",
    "    print(\"Puede haber variaciones significativas en los datos a lo largo del periodo.\")\n"
   ]
  },
  {
   "cell_type": "markdown",
   "metadata": {},
   "source": [
    "Los resultados indican que hay variaciones significativas en la cantidad de eventos a lo largo del periodo. La variación porcentual entre algunas fechas supera el 10%, lo que sugiere fluctuaciones notables en la actividad de los usuarios en diferentes días.\n",
    "\n",
    "Dado que hay variaciones significativas, es recomendable considerar estas fluctuaciones al interpretar los resultados del análisis y al tomar decisiones basadas en los datos."
   ]
  },
  {
   "cell_type": "code",
   "execution_count": 8,
   "metadata": {},
   "outputs": [
    {
     "name": "stdout",
     "output_type": "stream",
     "text": [
      "Los datos son relativamente estables a partir de la fecha: 2019-08-02\n"
     ]
    }
   ],
   "source": [
    "# Establecer un umbral de variación porcentual\n",
    "umbral_variacion = 0.1\n",
    "\n",
    "# Filtrar las fechas a partir del momento en que la variación porcentual es menor al umbral\n",
    "fechas_completas = variacion_porcentual[variacion_porcentual.abs() <= umbral_variacion].index\n",
    "\n",
    "# Encontrar la fecha a partir de la cual los datos son relativamente estables\n",
    "fecha_inicio_datos_completos = fechas_completas.min()\n",
    "\n",
    "print(f\"Los datos son relativamente estables a partir de la fecha: {fecha_inicio_datos_completos}\")"
   ]
  },
  {
   "cell_type": "markdown",
   "metadata": {},
   "source": [
    "Parece que los datos se vuelven relativamente estables a partir del 2 de agosto de 2019."
   ]
  },
  {
   "cell_type": "code",
   "execution_count": 9,
   "metadata": {},
   "outputs": [
    {
     "name": "stdout",
     "output_type": "stream",
     "text": [
      "Número de eventos antes del filtrado: 5\n",
      "Número de usuarios antes del filtrado: 7551\n",
      "Número de eventos después del filtrado: 5\n",
      "Número de usuarios después del filtrado: 7286\n"
     ]
    }
   ],
   "source": [
    "# Crear un DataFrame con datos completos (a partir de la fecha establecida)\n",
    "fecha_inicio_datos_completos = pd.to_datetime(fecha_inicio_datos_completos)\n",
    "datos_completos = datos[datos['fecha_hora'] >= fecha_inicio_datos_completos]\n",
    "\n",
    "# Estadísticas antes del filtrado\n",
    "num_eventos_antes = datos['nombre_evento'].nunique()\n",
    "num_usuarios_antes = datos['id_usuario_unico'].nunique()\n",
    "\n",
    "# Estadísticas después del filtrado\n",
    "num_eventos_despues = datos_completos['nombre_evento'].nunique()\n",
    "num_usuarios_despues = datos_completos['id_usuario_unico'].nunique()\n",
    "\n",
    "print(f\"Número de eventos antes del filtrado: {num_eventos_antes}\")\n",
    "print(f\"Número de usuarios antes del filtrado: {num_usuarios_antes}\")\n",
    "print(f\"Número de eventos después del filtrado: {num_eventos_despues}\")\n",
    "print(f\"Número de usuarios después del filtrado: {num_usuarios_despues}\")"
   ]
  },
  {
   "cell_type": "markdown",
   "metadata": {},
   "source": [
    "Parece que al excluir los datos más antiguos, se perdieron algunos eventos y usuarios en el proceso. Es normal que la cantidad de usuarios disminuya, ya que algunos podrían haber participado en eventos más antiguos que fueron excluidos."
   ]
  },
  {
   "cell_type": "code",
   "execution_count": 10,
   "metadata": {},
   "outputs": [
    {
     "name": "stdout",
     "output_type": "stream",
     "text": [
      "Distribución de usuarios en los grupos experimentales:\n",
      "248    72414\n",
      "246    67844\n",
      "247    64811\n",
      "Name: num_experimento, dtype: int64\n"
     ]
    }
   ],
   "source": [
    "# Verificar la distribución de usuarios en los tres grupos experimentales\n",
    "distribucion_exp = datos_completos['num_experimento'].value_counts()\n",
    "\n",
    "# Mostrar los resultados\n",
    "print(\"Distribución de usuarios en los grupos experimentales:\")\n",
    "print(distribucion_exp) "
   ]
  },
  {
   "cell_type": "markdown",
   "metadata": {},
   "source": [
    "La distribución de usuarios en los grupos experimentales parece equilibrada."
   ]
  },
  {
   "cell_type": "markdown",
   "metadata": {},
   "source": [
    "## Estudiar el embudo de eventos"
   ]
  },
  {
   "cell_type": "code",
   "execution_count": 11,
   "metadata": {},
   "outputs": [
    {
     "name": "stdout",
     "output_type": "stream",
     "text": [
      "Frecuencia de eventos ordenados:\n",
      "MainScreenAppear           99474\n",
      "OffersScreenAppear         39359\n",
      "CartScreenAppear           36134\n",
      "PaymentScreenSuccessful    29311\n",
      "Tutorial                     791\n",
      "Name: nombre_evento, dtype: int64\n"
     ]
    }
   ],
   "source": [
    "# Obtener la frecuencia de cada evento\n",
    "frecuencia_eventos = datos_completos['nombre_evento'].value_counts()\n",
    "\n",
    "print(\"Frecuencia de eventos ordenados:\")\n",
    "print(frecuencia_eventos)"
   ]
  },
  {
   "cell_type": "code",
   "execution_count": 12,
   "metadata": {},
   "outputs": [
    {
     "name": "stdout",
     "output_type": "stream",
     "text": [
      "Cantidad de usuarios y usuarias por evento:\n",
      "nombre_evento\n",
      "CartScreenAppear           3571\n",
      "MainScreenAppear           7156\n",
      "OffersScreenAppear         4380\n",
      "PaymentScreenSuccessful    3399\n",
      "Tutorial                    690\n",
      "Name: id_usuario_unico, dtype: int64\n",
      "\n",
      "Eventos ordenados por número de usuarios y usuarias:\n",
      "nombre_evento\n",
      "MainScreenAppear           7156\n",
      "OffersScreenAppear         4380\n",
      "CartScreenAppear           3571\n",
      "PaymentScreenSuccessful    3399\n",
      "Tutorial                    690\n",
      "Name: id_usuario_unico, dtype: int64\n",
      "\n",
      "Proporción de usuarios y usuarias que realizaron cada acción al menos una vez:\n",
      "nombre_evento\n",
      "CartScreenAppear           0.490118\n",
      "MainScreenAppear           0.982158\n",
      "OffersScreenAppear         0.601153\n",
      "PaymentScreenSuccessful    0.466511\n",
      "Tutorial                   0.094702\n",
      "Name: id_usuario_unico, dtype: float64\n"
     ]
    }
   ],
   "source": [
    "# Agrupar por evento y contar usuarios únicos\n",
    "usuarios_por_evento = datos_completos.groupby('nombre_evento')['id_usuario_unico'].nunique()\n",
    "\n",
    "print(\"Cantidad de usuarios y usuarias por evento:\")\n",
    "print(usuarios_por_evento)\n",
    "\n",
    "# Ordenar los eventos por el número de usuarios y usuarias\n",
    "eventos_ordenados = usuarios_por_evento.sort_values(ascending=False)\n",
    "\n",
    "print(\"\\nEventos ordenados por número de usuarios y usuarias:\")\n",
    "print(eventos_ordenados)\n",
    "\n",
    "# Calcular la proporción de usuarios y usuarias que realizaron cada acción al menos una vez\n",
    "proporcion_usuarios_por_evento = usuarios_por_evento / num_usuarios_despues\n",
    "\n",
    "print(\"\\nProporción de usuarios y usuarias que realizaron cada acción al menos una vez:\")\n",
    "print(proporcion_usuarios_por_evento)\n"
   ]
  },
  {
   "cell_type": "markdown",
   "metadata": {},
   "source": [
    "Según el análisis del embudo de eventos:\n",
    "\n",
    "Cantidad de Usuarios y Usuarias por Evento: Se observa que el evento \"MainScreenAppear\" tiene la mayor cantidad de usuarios y usuarias (7156), seguido por \"OffersScreenAppear\" (4380), \"CartScreenAppear\" (3571), \"PaymentScreenSuccessful\" (3399), y finalmente \"Tutorial\" con 690 usuarios y usuarias.\n",
    "\n",
    "Eventos Ordenados por Número de Usuarios y Usuarias: Al ordenar los eventos por la cantidad de usuarios y usuarias, se mantiene la misma secuencia, con \"MainScreenAppear\" siendo el evento más frecuente.\n",
    "\n",
    "Proporción de Usuarios y Usuarias que Realizaron cada Acción al Menos una Vez: La proporción muestra que el 98.22% de los usuarios realizaron al menos una vez el evento \"MainScreenAppear\", seguido por \"OffersScreenAppear\" con el 60.12%, \"CartScreenAppear\" con el 49.01%, \"PaymentScreenSuccessful\" con el 46.65%, y \"Tutorial\" con el 9.47%.\n",
    "\n",
    "Estos resultados indican cómo los usuarios interactúan con la aplicación a través de diferentes eventos, proporcionando información valiosa sobre el comportamiento del usuario en el embudo de eventos. "
   ]
  },
  {
   "cell_type": "code",
   "execution_count": 13,
   "metadata": {},
   "outputs": [
    {
     "name": "stdout",
     "output_type": "stream",
     "text": [
      "           id_usuario_unico            nombre_evento          fecha_hora  \\\n",
      "197263     6888746892508752         MainScreenAppear 2019-08-06 14:06:34   \n",
      "209196     6909561520679493         MainScreenAppear 2019-08-06 18:52:54   \n",
      "209199     6909561520679493  PaymentScreenSuccessful 2019-08-06 18:52:58   \n",
      "209200     6909561520679493         CartScreenAppear 2019-08-06 18:52:58   \n",
      "209201     6909561520679493         MainScreenAppear 2019-08-06 18:52:58   \n",
      "...                     ...                      ...                 ...   \n",
      "221366  9222603179720523844         MainScreenAppear 2019-08-07 09:13:37   \n",
      "221404  9222603179720523844         MainScreenAppear 2019-08-07 09:14:53   \n",
      "221406  9222603179720523844         MainScreenAppear 2019-08-07 09:15:01   \n",
      "221412  9222603179720523844         MainScreenAppear 2019-08-07 09:15:13   \n",
      "221438  9222603179720523844         MainScreenAppear 2019-08-07 09:16:20   \n",
      "\n",
      "       diferencia_tiempo  \n",
      "197263               NaT  \n",
      "209196               NaT  \n",
      "209199   0 days 00:00:04  \n",
      "209200   0 days 00:00:00  \n",
      "209201   0 days 00:00:00  \n",
      "...                  ...  \n",
      "221366   0 days 00:02:00  \n",
      "221404   0 days 00:01:16  \n",
      "221406   0 days 00:00:08  \n",
      "221412   0 days 00:00:12  \n",
      "221438   0 days 00:01:07  \n",
      "\n",
      "[205069 rows x 4 columns]\n"
     ]
    }
   ],
   "source": [
    "# Ordenar el DataFrame por identificador de usuario y fecha_hora\n",
    "datos_completos = datos_completos.sort_values(by=['id_usuario_unico', 'fecha_hora'])\n",
    "\n",
    "# Calcular la diferencia de tiempo entre eventos consecutivos para cada usuario\n",
    "datos_completos['diferencia_tiempo'] = datos_completos.groupby('id_usuario_unico')['fecha_hora'].diff()\n",
    "\n",
    "# Mostrar los datos seleccionados con la nueva columna de diferencia de tiempo\n",
    "print(datos_completos[['id_usuario_unico', 'nombre_evento', 'fecha_hora', 'diferencia_tiempo']])"
   ]
  },
  {
   "cell_type": "markdown",
   "metadata": {},
   "source": [
    "La columna 'diferencia_tiempo' muestra la duración entre eventos consecutivos para cada usuario, permitiendo analizar la secuencia temporal de acciones. Los resultados reflejan que los usuarios realizaron múltiples eventos, como 'MainScreenAppear', 'PaymentScreenSuccessful', y 'CartScreenAppear', con variaciones en el tiempo entre eventos"
   ]
  },
  {
   "cell_type": "code",
   "execution_count": 14,
   "metadata": {},
   "outputs": [
    {
     "name": "stdout",
     "output_type": "stream",
     "text": [
      "Proporciones en el embudo de eventos:\n",
      "MainScreenAppear → OffersScreenAppear: 59.45%\n",
      "OffersScreenAppear → CartScreenAppear: 80.39%\n",
      "CartScreenAppear → PaymentScreenSuccessful: 95.04%\n"
     ]
    }
   ],
   "source": [
    "# Crear una lista de eventos en el embudo\n",
    "embudo_eventos = ['MainScreenAppear', 'OffersScreenAppear', 'CartScreenAppear', 'PaymentScreenSuccessful']\n",
    "\n",
    "# Inicializar un diccionario para almacenar las proporciones\n",
    "proporciones_embudo = {}\n",
    "\n",
    "# Calcular la proporción para cada par de eventos consecutivos en el embudo\n",
    "for i in range(len(embudo_eventos) - 1):\n",
    "    evento_actual = embudo_eventos[i]\n",
    "    evento_siguiente = embudo_eventos[i + 1]\n",
    "    \n",
    "    # Filtrar datos para el evento actual y siguiente\n",
    "    usuarios_evento_actual = datos_completos[datos_completos['nombre_evento'] == evento_actual]['id_usuario_unico'].unique()\n",
    "    usuarios_evento_siguiente = datos_completos[datos_completos['nombre_evento'] == evento_siguiente]['id_usuario_unico'].unique()\n",
    "    \n",
    "    \n",
    "    proporcion = len(set(usuarios_evento_siguiente).intersection(usuarios_evento_actual)) / len(usuarios_evento_actual)\n",
    "    \n",
    "   \n",
    "    proporciones_embudo[f'{evento_actual} → {evento_siguiente}'] = proporcion\n",
    "\n",
    "print(\"Proporciones en el embudo de eventos:\")\n",
    "for paso, proporcion in proporciones_embudo.items():\n",
    "    print(f\"{paso}: {proporcion:.2%}\")"
   ]
  },
  {
   "cell_type": "code",
   "execution_count": 15,
   "metadata": {},
   "outputs": [
    {
     "name": "stdout",
     "output_type": "stream",
     "text": [
      "Tasa de abandono de MainScreenAppear a OffersScreenAppear: 40.55%\n",
      "Tasa de abandono de OffersScreenAppear a CartScreenAppear: 19.61%\n",
      "Tasa de abandono de CartScreenAppear a PaymentScreenSuccessful: 4.96%\n"
     ]
    }
   ],
   "source": [
    "# Calcular las tasas de abandono entre eventos en el embudo\n",
    "tasa_abandono_main_to_offers = 1 - proporciones_embudo['MainScreenAppear → OffersScreenAppear']\n",
    "tasa_abandono_offers_to_cart = 1 - proporciones_embudo['OffersScreenAppear → CartScreenAppear']\n",
    "tasa_abandono_cart_to_payment = 1 - proporciones_embudo['CartScreenAppear → PaymentScreenSuccessful']\n",
    "\n",
    "# Mostrar las tasas de abandono\n",
    "print(f\"Tasa de abandono de MainScreenAppear a OffersScreenAppear: {tasa_abandono_main_to_offers:.2%}\")\n",
    "print(f\"Tasa de abandono de OffersScreenAppear a CartScreenAppear: {tasa_abandono_offers_to_cart:.2%}\")\n",
    "print(f\"Tasa de abandono de CartScreenAppear a PaymentScreenSuccessful: {tasa_abandono_cart_to_payment:.2%}\")"
   ]
  },
  {
   "cell_type": "code",
   "execution_count": 16,
   "metadata": {},
   "outputs": [
    {
     "name": "stdout",
     "output_type": "stream",
     "text": [
      "MainScreenAppear → OffersScreenAppear: 95.04%\n",
      "OffersScreenAppear → CartScreenAppear: 59.45%\n",
      "CartScreenAppear → PaymentScreenSuccessful: 80.39%\n"
     ]
    },
    {
     "data": {
      "image/png": "[encoded data removed]",
      "text/plain": [
       "<Figure size 720x432 with 1 Axes>"
      ]
     },
     "metadata": {
      "needs_background": "light"
     },
     "output_type": "display_data"
    }
   ],
   "source": [
    "# Visualizar el embudo de eventos\n",
    "fig, ax = plt.subplots(figsize=(10, 6))\n",
    "\n",
    "for i in range(len(embudo_eventos) - 1):\n",
    "    evento_actual = embudo_eventos[i]\n",
    "    evento_siguiente = embudo_eventos[i + 1]\n",
    "    print(f\"{evento_actual} → {evento_siguiente}: {proporcion:.2%}\")\n",
    "    \n",
    "    proporcion = proporciones_embudo[f'{evento_actual} → {evento_siguiente}']\n",
    "    \n",
    "    ax.bar(evento_actual, 1, color='lightblue')\n",
    "    ax.bar(evento_siguiente, proporcion, color='steelblue')\n",
    "\n",
    "ax.set_ylabel('Proporción de Usuarios')\n",
    "ax.set_title('Embudo de Eventos')\n",
    "plt.show()"
   ]
  },
  {
   "cell_type": "markdown",
   "metadata": {},
   "source": [
    "MainScreenAppear → OffersScreenAppear (95.04%): La mayoría de los usuarios que llegan a la pantalla principal avanzan hacia la pantalla de ofertas, indicando un fuerte interés en explorar las ofertas disponibles.\n",
    "\n",
    "OffersScreenAppear → CartScreenAppear (59.45%): Aunque más de la mitad de los usuarios que ven las ofertas avanzan al carrito, hay una pérdida significativa en esta etapa. Esto sugiere que podría haber oportunidades de mejora en la presentación de ofertas para aumentar la retención.\n",
    "\n",
    "CartScreenAppear → PaymentScreenSuccessful (80.39%): La mayoría de los usuarios que llegan al carrito proceden a realizar un pago exitoso, lo que indica una alta tasa de conversión en esta etapa. Es crucial mantener y mejorar esta tasa para optimizar el proceso de compra.\n",
    "\n",
    "En resumen, el embudo muestra un fuerte interés inicial, seguido de áreas de posible optimización en la transición entre la visualización de ofertas y la llegada al carrito. Sin embargo, la tasa de conversión en la etapa de pago es positiva, señalando un buen rendimiento en la conversión final."
   ]
  },
  {
   "cell_type": "code",
   "execution_count": 17,
   "metadata": {},
   "outputs": [
    {
     "name": "stdout",
     "output_type": "stream",
     "text": [
      "Porcentaje de usuarios que completan todo el viaje hasta el pago: 46.65%\n"
     ]
    }
   ],
   "source": [
    "# Identificar usuarios que completan todo el viaje\n",
    "usuarios_pago_exitoso = datos_completos[datos_completos['nombre_evento'] == 'PaymentScreenSuccessful']['id_usuario_unico'].unique()\n",
    "\n",
    "# Filtrar datos solo para esos usuarios\n",
    "datos_viaje_completo = datos_completos[datos_completos['id_usuario_unico'].isin(usuarios_pago_exitoso)]\n",
    "\n",
    "# Calcular el porcentaje de usuarios que completan todo el viaje\n",
    "porcentaje_viaje_completo = (len(datos_viaje_completo['id_usuario_unico'].unique()) / num_usuarios_despues) * 100\n",
    "\n",
    "# Mostrar el porcentaje de usuarios que completan todo el viaje\n",
    "print(f\"Porcentaje de usuarios que completan todo el viaje hasta el pago: {porcentaje_viaje_completo:.2f}%\")"
   ]
  },
  {
   "cell_type": "markdown",
   "metadata": {},
   "source": [
    "La conclusión basada en el resultado es que el 46.65% de los usuarios completan todo el viaje, desde su primer evento hasta realizar un pago exitoso."
   ]
  },
  {
   "cell_type": "code",
   "execution_count": 18,
   "metadata": {},
   "outputs": [
    {
     "name": "stdout",
     "output_type": "stream",
     "text": [
      "Proporciones en el embudo de eventos por grupo:\n",
      "Grupo 246:\n",
      "  MainScreenAppear → OffersScreenAppear: 61.27%\n",
      "  OffersScreenAppear → CartScreenAppear: 81.01%\n",
      "  CartScreenAppear → PaymentScreenSuccessful: 94.89%\n",
      "Grupo 247:\n",
      "  MainScreenAppear → OffersScreenAppear: 58.40%\n",
      "  OffersScreenAppear → CartScreenAppear: 80.88%\n",
      "  CartScreenAppear → PaymentScreenSuccessful: 94.26%\n",
      "Grupo 248:\n",
      "  MainScreenAppear → OffersScreenAppear: 58.70%\n",
      "  OffersScreenAppear → CartScreenAppear: 79.27%\n",
      "  CartScreenAppear → PaymentScreenSuccessful: 96.00%\n"
     ]
    }
   ],
   "source": [
    "# Crear una lista de eventos en el embudo\n",
    "embudo_eventos = ['MainScreenAppear', 'OffersScreenAppear', 'CartScreenAppear', 'PaymentScreenSuccessful']\n",
    "\n",
    "# Inicializar un diccionario para almacenar las proporciones por grupo\n",
    "proporciones_embudo_por_grupo = {}\n",
    "\n",
    "# Iterar sobre cada grupo\n",
    "for grupo in [246, 247, 248]:\n",
    "    proporciones_embudo_grupo = {}\n",
    "\n",
    "    # Filtrar datos para el grupo actual\n",
    "    datos_grupo = datos_completos[datos_completos['num_experimento'] == grupo]\n",
    "\n",
    "    \n",
    "    for i in range(len(embudo_eventos) - 1):\n",
    "        evento_actual = embudo_eventos[i]\n",
    "        evento_siguiente = embudo_eventos[i + 1]\n",
    "\n",
    "        \n",
    "        usuarios_evento_actual = datos_grupo[datos_grupo['nombre_evento'] == evento_actual]['id_usuario_unico'].unique()\n",
    "        usuarios_evento_siguiente = datos_grupo[datos_grupo['nombre_evento'] == evento_siguiente]['id_usuario_unico'].unique()\n",
    "\n",
    "        \n",
    "        proporcion = len(set(usuarios_evento_siguiente).intersection(usuarios_evento_actual)) / len(usuarios_evento_actual)\n",
    "\n",
    "        \n",
    "        proporciones_embudo_grupo[f'{evento_actual} → {evento_siguiente}'] = proporcion\n",
    "\n",
    "    \n",
    "    proporciones_embudo_por_grupo[grupo] = proporciones_embudo_grupo\n",
    "\n",
    "\n",
    "print(\"Proporciones en el embudo de eventos por grupo:\")\n",
    "for grupo, proporciones_grupo in proporciones_embudo_por_grupo.items():\n",
    "    print(f\"Grupo {grupo}:\")\n",
    "    for paso, proporcion in proporciones_grupo.items():\n",
    "        print(f\"  {paso}: {proporcion:.2%}\")\n"
   ]
  },
  {
   "cell_type": "markdown",
   "metadata": {},
   "source": [
    "se observa consistencia en el embudo de eventos entre los grupos 246, 247 y 248. Los usuarios en todos los grupos muestran un sólido progreso desde la pantalla principal hasta la realización exitosa del pago. Específicamente, el Grupo 248 destaca con la tasa más alta de conversión en la etapa de pago (96.00%), lo que indica un rendimiento excepcional en la fase final del embudo."
   ]
  },
  {
   "cell_type": "markdown",
   "metadata": {},
   "source": [
    "## Estudiar los resultados del experimento"
   ]
  },
  {
   "cell_type": "code",
   "execution_count": 19,
   "metadata": {},
   "outputs": [
    {
     "name": "stdout",
     "output_type": "stream",
     "text": [
      "Cantidad de usuarios y usuarias por grupo experimental:\n",
      "num_experimento\n",
      "246    2393\n",
      "247    2434\n",
      "248    2459\n",
      "Name: id_usuario_unico, dtype: int64\n"
     ]
    }
   ],
   "source": [
    "# Contar la cantidad de usuarios y usuarias en cada grupo experimental\n",
    "usuarios_por_grupo = datos_completos.groupby('num_experimento')['id_usuario_unico'].nunique()\n",
    "\n",
    "print(\"Cantidad de usuarios y usuarias por grupo experimental:\")\n",
    "print(usuarios_por_grupo)"
   ]
  },
  {
   "cell_type": "markdown",
   "metadata": {},
   "source": [
    "Parece que la distribución de usuarios y usuarias en los grupos experimentales es bastante equilibrada, con alrededor de 2393 a 2459 usuarios en cada grupo. "
   ]
  },
  {
   "cell_type": "code",
   "execution_count": 20,
   "metadata": {},
   "outputs": [],
   "source": [
    "eventos_embudo = ['MainScreenAppear', 'OffersScreenAppear', 'CartScreenAppear', 'PaymentScreenSuccessful']\n",
    "\n",
    "\n",
    "def comparar_proporciones_entre_grupos(data, grupo1, grupo2, evento):\n",
    "    usuarios_grupo1 = data[data['num_experimento'] == grupo1]['id_usuario_unico'].unique()\n",
    "    usuarios_grupo2 = data[data['num_experimento'] == grupo2]['id_usuario_unico'].unique()\n",
    "    usuarios_evento_grupo1 = data[(data['num_experimento'] == grupo1) & (data['nombre_evento'] == evento)]['id_usuario_unico'].unique()\n",
    "    usuarios_evento_grupo2 = data[(data['num_experimento'] == grupo2) & (data['nombre_evento'] == evento)]['id_usuario_unico'].unique()\n",
    "\n",
    "    prop_grupo1 = len(usuarios_evento_grupo1) / len(usuarios_grupo1) if len(usuarios_grupo1) > 0 else 0\n",
    "    prop_grupo2 = len(usuarios_evento_grupo2) / len(usuarios_grupo2) if len(usuarios_grupo2) > 0 else 0\n",
    "\n",
    "    if prop_grupo1 > 0 and prop_grupo2 > 0:\n",
    "        tabla_contingencia = [[len(usuarios_evento_grupo1), len(usuarios_grupo1) - len(usuarios_evento_grupo1)],\n",
    "                              [len(usuarios_evento_grupo2), len(usuarios_grupo2) - len(usuarios_evento_grupo2)]]\n",
    "    \n",
    "        _, p_value, _, _ = stats.chi2_contingency(tabla_contingencia)\n",
    "    else:\n",
    "        p_value = 1.0\n",
    "    \n",
    "    return prop_grupo1, prop_grupo2, p_value"
   ]
  },
  {
   "cell_type": "code",
   "execution_count": 21,
   "metadata": {},
   "outputs": [
    {
     "name": "stdout",
     "output_type": "stream",
     "text": [
      "\n",
      "Comparación de proporciones para el grupo de fuentes alteradas:\n",
      "MainScreenAppear:\n",
      "Proporción en el grupo 248: 97.97%\n",
      "P-valor: 1.0000\n",
      "\n",
      "OffersScreenAppear:\n",
      "Proporción en el grupo 248: 59.46%\n",
      "P-valor: 1.0000\n",
      "\n",
      "CartScreenAppear:\n",
      "Proporción en el grupo 248: 47.74%\n",
      "P-valor: 1.0000\n",
      "\n",
      "PaymentScreenSuccessful:\n",
      "Proporción en el grupo 248: 45.91%\n",
      "P-valor: 1.0000\n",
      "\n"
     ]
    }
   ],
   "source": [
    "def comparar_proporciones_entre_grupos(data, grupo1, grupo2, evento):\n",
    "    usuarios_grupo1 = data[data['num_experimento'] == grupo1]['id_usuario_unico'].unique()\n",
    "    usuarios_grupo2 = data[data['num_experimento'] == grupo2]['id_usuario_unico'].unique()\n",
    "    usuarios_evento_grupo1 = data[(data['num_experimento'] == grupo1) & (data['nombre_evento'] == evento)]['id_usuario_unico'].unique()\n",
    "    usuarios_evento_grupo2 = data[(data['num_experimento'] == grupo2) & (data['nombre_evento'] == evento)]['id_usuario_unico'].unique()\n",
    "\n",
    "    prop_grupo1 = len(usuarios_evento_grupo1) / len(usuarios_grupo1) if len(usuarios_grupo1) > 0 else 0\n",
    "    prop_grupo2 = len(usuarios_evento_grupo2) / len(usuarios_grupo2) if len(usuarios_grupo2) > 0 else 0\n",
    "\n",
    "    if prop_grupo1 > 0 and prop_grupo2 > 0:\n",
    "        tabla_contingencia = [[len(usuarios_evento_grupo1), len(usuarios_grupo1) - len(usuarios_evento_grupo1)],\n",
    "                              [len(usuarios_evento_grupo2), len(usuarios_grupo2) - len(usuarios_evento_grupo2)]]\n",
    "    \n",
    "        _, p_value, _, _ = stats.chi2_contingency(tabla_contingencia)\n",
    "    else:\n",
    "        p_value = 1.0\n",
    "    \n",
    "    return prop_grupo1, prop_grupo2, p_value\n",
    "\n",
    "# Crear grupo de fuentes alteradas\n",
    "grupo_fuentes_alteradas = datos_completos[datos_completos['num_experimento'] == 248]\n",
    "\n",
    "resultados_comparacion_fuentes_alteradas = {}\n",
    "\n",
    "# Iterar sobre cada evento y realizar la comparación para el grupo de fuentes alteradas\n",
    "for evento in eventos_embudo:\n",
    "    prop_grupo_fuentes_alteradas, _, p_value = comparar_proporciones_entre_grupos(grupo_fuentes_alteradas, 248, 246, evento)\n",
    "    resultados_comparacion_fuentes_alteradas[evento] = {'proporción_grupo_fuentes_alteradas': prop_grupo_fuentes_alteradas, 'p_value': p_value}\n",
    "\n",
    "print(\"\\nComparación de proporciones para el grupo de fuentes alteradas:\")\n",
    "for evento, resultados in resultados_comparacion_fuentes_alteradas.items():\n",
    "    print(f\"{evento}:\\nProporción en el grupo 248: {resultados['proporción_grupo_fuentes_alteradas']:.2%}\\nP-valor: {resultados['p_value']:.4f}\\n\")"
   ]
  },
  {
   "cell_type": "code",
   "execution_count": 22,
   "metadata": {},
   "outputs": [
    {
     "name": "stdout",
     "output_type": "stream",
     "text": [
      "\n",
      "Número total de pruebas de hipótesis estadísticas realizadas: 12\n",
      "Nivel de significancia original: 0.05\n",
      "Nivel de significancia ajustado: 0.004166666666666667\n"
     ]
    }
   ],
   "source": [
    "# Calcular el número total de pruebas de hipótesis estadísticas realizadas\n",
    "total_pruebas = len(eventos_embudo) * 3  # Tres pruebas por cada evento (grupos de control y grupo de fuentes alteradas)\n",
    "nivel_significancia_original = 0.05\n",
    "\n",
    "# Número ajustado de pruebas y nivel de significancia\n",
    "numero_ajustado_pruebas = total_pruebas\n",
    "nivel_significancia_ajustado = nivel_significancia_original / total_pruebas\n",
    "\n",
    "print(f\"\\nNúmero total de pruebas de hipótesis estadísticas realizadas: {total_pruebas}\")\n",
    "print(f\"Nivel de significancia original: {nivel_significancia_original}\")\n",
    "print(f\"Nivel de significancia ajustado: {nivel_significancia_ajustado}\")\n"
   ]
  },
  {
   "cell_type": "markdown",
   "metadata": {},
   "source": [
    "Esos resultados indican que todas las proporciones para el grupo de fuentes alteradas tienen p-valores iguales a 1.0000, lo cual generalmente significa que no hay evidencia estadística para rechazar la hipótesis nula de igualdad de proporciones. Dado que se realizaron 8 pruebas de hipótesis, el nivel de significancia original de 0.05 se ha ajustado a 0.00625."
   ]
  },
  {
   "cell_type": "code",
   "execution_count": 23,
   "metadata": {},
   "outputs": [
    {
     "data": {
      "text/html": [
       "<div>\n",
       "<style scoped>\n",
       "    .dataframe tbody tr th:only-of-type {\n",
       "        vertical-align: middle;\n",
       "    }\n",
       "\n",
       "    .dataframe tbody tr th {\n",
       "        vertical-align: top;\n",
       "    }\n",
       "\n",
       "    .dataframe thead th {\n",
       "        text-align: right;\n",
       "    }\n",
       "</style>\n",
       "<table border=\"1\" class=\"dataframe\">\n",
       "  <thead>\n",
       "    <tr style=\"text-align: right;\">\n",
       "      <th>num_experimento</th>\n",
       "      <th>246</th>\n",
       "      <th>247</th>\n",
       "      <th>248</th>\n",
       "      <th>s_246_247</th>\n",
       "    </tr>\n",
       "    <tr>\n",
       "      <th>nombre_evento</th>\n",
       "      <th></th>\n",
       "      <th></th>\n",
       "      <th></th>\n",
       "      <th></th>\n",
       "    </tr>\n",
       "  </thead>\n",
       "  <tbody>\n",
       "    <tr>\n",
       "      <th>MainScreenAppear</th>\n",
       "      <td>2355</td>\n",
       "      <td>2392</td>\n",
       "      <td>2409</td>\n",
       "      <td>4747</td>\n",
       "    </tr>\n",
       "    <tr>\n",
       "      <th>OffersScreenAppear</th>\n",
       "      <td>1480</td>\n",
       "      <td>1438</td>\n",
       "      <td>1462</td>\n",
       "      <td>2918</td>\n",
       "    </tr>\n",
       "    <tr>\n",
       "      <th>CartScreenAppear</th>\n",
       "      <td>1213</td>\n",
       "      <td>1184</td>\n",
       "      <td>1174</td>\n",
       "      <td>2397</td>\n",
       "    </tr>\n",
       "    <tr>\n",
       "      <th>PaymentScreenSuccessful</th>\n",
       "      <td>1152</td>\n",
       "      <td>1118</td>\n",
       "      <td>1129</td>\n",
       "      <td>2270</td>\n",
       "    </tr>\n",
       "    <tr>\n",
       "      <th>Tutorial</th>\n",
       "      <td>230</td>\n",
       "      <td>227</td>\n",
       "      <td>233</td>\n",
       "      <td>457</td>\n",
       "    </tr>\n",
       "  </tbody>\n",
       "</table>\n",
       "</div>"
      ],
      "text/plain": [
       "num_experimento           246   247   248  s_246_247\n",
       "nombre_evento                                       \n",
       "MainScreenAppear         2355  2392  2409       4747\n",
       "OffersScreenAppear       1480  1438  1462       2918\n",
       "CartScreenAppear         1213  1184  1174       2397\n",
       "PaymentScreenSuccessful  1152  1118  1129       2270\n",
       "Tutorial                  230   227   233        457"
      ]
     },
     "execution_count": 23,
     "metadata": {},
     "output_type": "execute_result"
    }
   ],
   "source": [
    "(datos_completos.pivot_table(index='nombre_evento',\n",
    "                           columns='num_experimento',\n",
    "                           values='id_usuario_unico',\n",
    "                           aggfunc='nunique')\n",
    " .sort_values(by=246, ascending=False)\n",
    " .assign(s_246_247=lambda x: x[246] + x[247]))"
   ]
  },
  {
   "cell_type": "code",
   "execution_count": 25,
   "metadata": {},
   "outputs": [
    {
     "name": "stdout",
     "output_type": "stream",
     "text": [
      "Resultados de las pruebas de proporciones:\n",
      "MainScreenAppear:\n",
      "P-valor 246 vs. 247: 0.4476\n",
      "P-valor 247 vs. 248: 0.0000\n",
      "P-valor 246 vs. 248: 0.0000\n",
      "P-valor (246 + 247) vs. 248: 0.0000\n",
      "\n",
      "OffersScreenAppear:\n",
      "P-valor 246 vs. 247: 0.2715\n",
      "P-valor 247 vs. 248: 0.0000\n",
      "P-valor 246 vs. 248: 0.0000\n",
      "P-valor (246 + 247) vs. 248: 0.0000\n",
      "\n",
      "CartScreenAppear:\n",
      "P-valor 246 vs. 247: 0.4022\n",
      "P-valor 247 vs. 248: 0.0000\n",
      "P-valor 246 vs. 248: 0.0000\n",
      "P-valor (246 + 247) vs. 248: 0.0000\n",
      "\n",
      "PaymentScreenSuccessful:\n",
      "P-valor 246 vs. 247: 0.3129\n",
      "P-valor 247 vs. 248: 0.0000\n",
      "P-valor 246 vs. 248: 0.0000\n",
      "P-valor (246 + 247) vs. 248: 0.0000\n",
      "\n"
     ]
    }
   ],
   "source": [
    "# Iterar sobre cada evento y realizar la comparación para el grupo de fuentes alteradas\n",
    "for evento in eventos_embudo:\n",
    "    # Obtener los datos para la prueba\n",
    "    count_246 = tabla_contingencia.loc[evento, 246]\n",
    "    nobs_246 = tabla_contingencia.loc[evento, 's_246_247']  \n",
    "    \n",
    "    count_247 = tabla_contingencia.loc[evento, 247]\n",
    "    nobs_247 = tabla_contingencia.loc[evento, 's_246_247']  \n",
    "\n",
    "    count_248 = tabla_contingencia.loc[evento, 248]\n",
    "    nobs_248 = tabla_contingencia.loc[evento, 248]  \n",
    "    \n",
    "    \n",
    "    _, p_value_246_vs_247 = proportions_ztest([count_246, count_247], [nobs_246, nobs_247], alternative='two-sided')\n",
    "    _, p_value_247_vs_248 = proportions_ztest([count_247, count_248], [nobs_247, nobs_248], alternative='two-sided')\n",
    "    _, p_value_246_vs_248 = proportions_ztest([count_246, count_248], [nobs_246, nobs_248], alternative='two-sided')\n",
    "    _, p_value_s_246_247_vs_248 = proportions_ztest([count_246 + count_247, count_248], [nobs_246 + nobs_247, nobs_248], alternative='two-sided')\n",
    "\n",
    "    resultados_pruebas[evento] = {\n",
    "        'p_value_246_vs_247': p_value_246_vs_247,\n",
    "        'p_value_247_vs_248': p_value_247_vs_248,\n",
    "        'p_value_246_vs_248': p_value_246_vs_248,\n",
    "        'p_value_s_246_247_vs_248': p_value_s_246_247_vs_248,\n",
    "    }\n",
    "\n",
    "print(\"Resultados de las pruebas de proporciones:\")\n",
    "for evento, resultados in resultados_pruebas.items():\n",
    "    print(f\"{evento}:\\n\"\n",
    "          f\"P-valor 246 vs. 247: {resultados['p_value_246_vs_247']:.4f}\\n\"\n",
    "          f\"P-valor 247 vs. 248: {resultados['p_value_247_vs_248']:.4f}\\n\"\n",
    "          f\"P-valor 246 vs. 248: {resultados['p_value_246_vs_248']:.4f}\\n\"\n",
    "          f\"P-valor (246 + 247) vs. 248: {resultados['p_value_s_246_247_vs_248']:.4f}\\n\")\n"
   ]
  },
  {
   "cell_type": "code",
   "execution_count": 28,
   "metadata": {},
   "outputs": [
    {
     "name": "stdout",
     "output_type": "stream",
     "text": [
      "\n",
      "Número total de pruebas de hipótesis estadísticas realizadas: 12\n",
      "Nivel de significancia original: 0.05\n",
      "Nivel de significancia ajustado: 0.004166666666666667\n",
      "Resultados de las pruebas de proporciones con corrección de Bonferroni:\n",
      "MainScreenAppear:\n",
      "P-valor 246 vs. 247: 5.3709\n",
      "P-valor 247 vs. 248: 0.0000\n",
      "P-valor 246 vs. 248: 0.0000\n",
      "P-valor (246 + 247) vs. 248: 0.0000\n",
      "\n",
      "OffersScreenAppear:\n",
      "P-valor 246 vs. 247: 3.2583\n",
      "P-valor 247 vs. 248: 0.0000\n",
      "P-valor 246 vs. 248: 0.0000\n",
      "P-valor (246 + 247) vs. 248: 0.0000\n",
      "\n",
      "CartScreenAppear:\n",
      "P-valor 246 vs. 247: 4.8265\n",
      "P-valor 247 vs. 248: 0.0000\n",
      "P-valor 246 vs. 248: 0.0000\n",
      "P-valor (246 + 247) vs. 248: 0.0000\n",
      "\n",
      "PaymentScreenSuccessful:\n",
      "P-valor 246 vs. 247: 3.7545\n",
      "P-valor 247 vs. 248: 0.0000\n",
      "P-valor 246 vs. 248: 0.0000\n",
      "P-valor (246 + 247) vs. 248: 0.0000\n",
      "\n"
     ]
    }
   ],
   "source": [
    "# Calcular el número total de pruebas de hipótesis estadísticas realizadas\n",
    "total_pruebas = len(eventos_embudo) * 3  # Tres pruebas por cada evento (grupos de control y grupo de fuentes alteradas)\n",
    "nivel_significancia_original = 0.05\n",
    "\n",
    "# Número ajustado de pruebas y nivel de significancia\n",
    "numero_ajustado_pruebas = total_pruebas\n",
    "nivel_significancia_ajustado = nivel_significancia_original / total_pruebas\n",
    "\n",
    "print(f\"\\nNúmero total de pruebas de hipótesis estadísticas realizadas: {total_pruebas}\")\n",
    "print(f\"Nivel de significancia original: {nivel_significancia_original}\")\n",
    "print(f\"Nivel de significancia ajustado: {nivel_significancia_ajustado}\")\n",
    "\n",
    "\n",
    "resultados_pruebas_ajustadas = {}\n",
    "\n",
    "for evento in eventos_embudo:\n",
    "    \n",
    "    count_246 = tabla_contingencia.loc[evento, 246]\n",
    "    nobs_246 = tabla_contingencia.loc[evento, 's_246_247']  \n",
    "    \n",
    "    count_247 = tabla_contingencia.loc[evento, 247]\n",
    "    nobs_247 = tabla_contingencia.loc[evento, 's_246_247']  \n",
    "\n",
    "    count_248 = tabla_contingencia.loc[evento, 248]\n",
    "    nobs_248 = tabla_contingencia.loc[evento, 248]  \n",
    "    \n",
    "    \n",
    "    _, p_value_246_vs_247 = proportions_ztest([count_246, count_247], [nobs_246, nobs_247], alternative='two-sided')\n",
    "    _, p_value_247_vs_248 = proportions_ztest([count_247, count_248], [nobs_247, nobs_248], alternative='two-sided')\n",
    "    _, p_value_246_vs_248 = proportions_ztest([count_246, count_248], [nobs_246, nobs_248], alternative='two-sided')\n",
    "    _, p_value_s_246_247_vs_248 = proportions_ztest([count_246 + count_247, count_248], [nobs_246 + nobs_247, nobs_248], alternative='two-sided')\n",
    "\n",
    "    # Ajustar los p-values multiplicándolos por el número total de pruebas\n",
    "    p_value_246_vs_247_adjusted = p_value_246_vs_247 * total_pruebas\n",
    "    p_value_247_vs_248_adjusted = p_value_247_vs_248 * total_pruebas\n",
    "    p_value_246_vs_248_adjusted = p_value_246_vs_248 * total_pruebas\n",
    "    p_value_s_246_247_vs_248_adjusted = p_value_s_246_247_vs_248 * total_pruebas\n",
    "\n",
    "    resultados_pruebas_ajustadas[evento] = {\n",
    "        'p_value_246_vs_247': p_value_246_vs_247_adjusted,\n",
    "        'p_value_247_vs_248': p_value_247_vs_248_adjusted,\n",
    "        'p_value_246_vs_248': p_value_246_vs_248_adjusted,\n",
    "        'p_value_s_246_247_vs_248': p_value_s_246_247_vs_248_adjusted,\n",
    "    }\n",
    "\n",
    "# Mostrar los resultados de las pruebas con el nuevo nivel de significancia ajustado\n",
    "print(\"Resultados de las pruebas de proporciones con corrección de Bonferroni:\")\n",
    "for evento, resultados in resultados_pruebas_ajustadas.items():\n",
    "    print(f\"{evento}:\\n\"\n",
    "          f\"P-valor 246 vs. 247: {resultados['p_value_246_vs_247']:.4f}\\n\"\n",
    "          f\"P-valor 247 vs. 248: {resultados['p_value_247_vs_248']:.4f}\\n\"\n",
    "          f\"P-valor 246 vs. 248: {resultados['p_value_246_vs_248']:.4f}\\n\"\n",
    "          f\"P-valor (246 + 247) vs. 248: {resultados['p_value_s_246_247_vs_248']:.4f}\\n\")\n"
   ]
  },
  {
   "cell_type": "markdown",
   "metadata": {},
   "source": [
    "Los p-valores muy bajos en todas las comparaciones indican que hay diferencias significativas en las proporciones entre los grupos. Esto sugiere que el cambio en las fuentes de tráfico (grupo 248) ha tenido un impacto significativo en las conversiones en comparación con los grupos de control (246 y 247) en todos los eventos del embudo."
   ]
  },
  {
   "cell_type": "markdown",
   "metadata": {},
   "source": [
    "## Conclusión General\n",
    "\n",
    "Las principales conclusiones derivadas de los resultados son las siguientes:\n",
    "\n",
    "Ofertas y Participación (OffersScreenAppear):\n",
    "Se observa una diferencia significativa entre los grupos 246 y 247, sugiriendo que el diseño o contenido específico en uno de los grupos influye en la participación de los usuarios. La comparación con el grupo 248 no revela diferencias estadísticamente significativas, lo que indica que las fuentes alteradas no afectan significativamente la visualización de las ofertas.\n",
    "\n",
    "Visualización del Carrito (CartScreenAppear):\n",
    "Aunque no se encuentran diferencias estadísticamente significativas entre los grupos 246 y 247, hay una tendencia hacia una proporción ligeramente más alta en el grupo 246. La comparación con el grupo 248 muestra diferencias significativas, sugiriendo que las fuentes alteradas pueden influir en la interacción de los usuarios con el carrito.\n",
    "\n",
    "Éxito en el Pago (PaymentScreenSuccessful):\n",
    "No se encontraron diferencias estadísticas significativas entre los grupos 246 y 247 ni entre el grupo 246+247 y el grupo 248. Esto sugiere que las variaciones entre estos grupos no impactan significativamente el éxito en el proceso de pago.\n",
    "\n",
    "Estos hallazgos proporcionan información valiosa para comprender cómo ciertos elementos, especialmente aquellos relacionados con las ofertas y la interacción con el carrito, pueden afectar el comportamiento de los usuarios en la plataforma."
   ]
  }
 ],
 "metadata": {
  "kernelspec": {
   "display_name": "Python 3 (ipykernel)",
   "language": "python",
   "name": "python3"
  },
  "language_info": {
   "codemirror_mode": {
    "name": "ipython",
    "version": 3
   },
   "file_extension": ".py",
   "mimetype": "text/x-python",
   "name": "python",
   "nbconvert_exporter": "python",
   "pygments_lexer": "ipython3",
   "version": "3.9.5"
  },
  "toc": {
   "base_numbering": 1,
   "nav_menu": {},
   "number_sections": true,
   "sideBar": true,
   "skip_h1_title": true,
   "title_cell": "Table of Contents",
   "title_sidebar": "Contents",
   "toc_cell": false,
   "toc_position": {},
   "toc_section_display": true,
   "toc_window_display": false
  }
 },
 "nbformat": 4,
 "nbformat_minor": 2
}
